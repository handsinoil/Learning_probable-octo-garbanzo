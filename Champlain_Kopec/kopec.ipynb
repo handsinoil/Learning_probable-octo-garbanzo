{
 "cells": [
  {
   "cell_type": "code",
   "execution_count": 1,
   "metadata": {
    "collapsed": true,
    "pycharm": {
     "is_executing": false
    }
   },
   "outputs": [
    {
     "name": "stdout",
     "text": [
      "12586269025\n"
     ],
     "output_type": "stream"
    }
   ],
   "source": [
    "# fibonacci memory\n",
    "from typing import Dict\n",
    "memo: Dict[int, int] = {0: 0, 1: 1} # basic case\n",
    "def fib_memo(n: int) -> int:\n",
    "    if n not in memo:\n",
    "        memo[n] = fib_memo(n-1) + fib_memo(n-2) # memorization\n",
    "    return memo[n]\n",
    "print(fib_memo(50))"
   ]
  },
  {
   "cell_type": "code",
   "execution_count": 2,
   "outputs": [
    {
     "name": "stdout",
     "text": [
      "12586269025\n"
     ],
     "output_type": "stream"
    },
    {
     "data": {
      "text/plain": "TestResults(failed=0, attempted=2)"
     },
     "metadata": {},
     "output_type": "execute_result",
     "execution_count": 2
    }
   ],
   "source": [
    "#атвоматическая мемоизация\n",
    "# 0 1 2 3 5 8\n",
    "# 1 2 3 4 5 6\n",
    "from functools import lru_cache\n",
    "@lru_cache(maxsize=None)\n",
    "def fib4(n: int) -> int:\n",
    "    \"\"\"\n",
    "    >>> fib4(6)\n",
    "    8\n",
    "    >>> fib4(50)\n",
    "    12586269025\"\"\"\n",
    "    if n<2: # basic case\n",
    "        return n\n",
    "    return fib4(n-2) + fib4(n-1)\n",
    "print(fib4(50))\n",
    "#if __name__=='__main__': \\\n",
    "import doctest\n",
    "doctest.testmod()\n"
   ],
   "metadata": {
    "collapsed": false,
    "pycharm": {
     "name": "#%%\n",
     "is_executing": false
    }
   }
  },
  {
   "cell_type": "code",
   "execution_count": 3,
   "outputs": [
    {
     "name": "stdout",
     "text": [
      "12586269025\n"
     ],
     "output_type": "stream"
    }
   ],
   "source": [
    "def fib_iter(n: int) -> int:\n",
    "    if n==0: return n\n",
    "    last: int = 0# f(0)\n",
    "    next: int = 1# f(1)\n",
    "    for _ in range(1, n):\n",
    "        last, next = next, last + next\n",
    "    return next\n",
    "print(fib_iter(50))"
   ],
   "metadata": {
    "collapsed": false,
    "pycharm": {
     "name": "#%%\n",
     "is_executing": false
    }
   }
  },
  {
   "cell_type": "code",
   "execution_count": 4,
   "outputs": [
    {
     "name": "stdout",
     "text": [
      "0 1 1 2 3 5 8 13 21 34 55 89 144 233 377 610 987 1597 2584 4181 6765 10946 17711 28657 46368 75025 121393 196418 317811 514229 832040 1346269 2178309 3524578 5702887 9227465 14930352 24157817 39088169 63245986 102334155 165580141 267914296 433494437 701408733 1134903170 1836311903 2971215073 4807526976 7778742049 12586269025 "
     ],
     "output_type": "stream"
    }
   ],
   "source": [
    "# fib generator\n",
    "from typing import Generator\n",
    "\n",
    "def fib_gen(n: int) -> Generator[int, None, None]:\n",
    "    yield 0 # case special\n",
    "    if n > 0: yield 1 #case spec\n",
    "    last: int = 0 # fib(0)\n",
    "    next: int = 1 # fib(1)\n",
    "    for _ in range(1, n):\n",
    "        last, next = next, last + next\n",
    "        yield next # stage main generation\n",
    "for i in fib_gen(50):\n",
    "    print(i, end = \" \")"
   ],
   "metadata": {
    "collapsed": false,
    "pycharm": {
     "name": "#%%\n",
     "is_executing": false
    }
   }
  },
  {
   "cell_type": "code",
   "execution_count": null,
   "outputs": [],
   "source": [
    "\n"
   ],
   "metadata": {
    "collapsed": false,
    "pycharm": {
     "name": "#%%\n"
    }
   }
  }
 ],
 "metadata": {
  "kernelspec": {
   "display_name": "Python 3",
   "language": "python",
   "name": "python3"
  },
  "language_info": {
   "codemirror_mode": {
    "name": "ipython",
    "version": 2
   },
   "file_extension": ".py",
   "mimetype": "text/x-python",
   "name": "python",
   "nbconvert_exporter": "python",
   "pygments_lexer": "ipython2",
   "version": "2.7.6"
  },
  "pycharm": {
   "stem_cell": {
    "cell_type": "raw",
    "source": [],
    "metadata": {
     "collapsed": false
    }
   }
  }
 },
 "nbformat": 4,
 "nbformat_minor": 0
}