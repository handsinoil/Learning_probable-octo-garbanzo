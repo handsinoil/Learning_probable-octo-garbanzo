{
 "cells": [
  {
   "cell_type": "code",
   "execution_count": 2,
   "metadata": {
    "collapsed": true,
    "pycharm": {
     "is_executing": false
    }
   },
   "outputs": [
    {
     "name": "stdout",
     "text": [
      "12586269025\n"
     ],
     "output_type": "stream"
    }
   ],
   "source": [
    "# fibonacci memory\n",
    "from typing import Dict\n",
    "memo: Dict[int, int] = {0: 0, 1: 1} # basic case\n",
    "def fib_memo(n: int) -> int:\n",
    "    if n not in memo:\n",
    "        memo[n] = fib_memo(n-1) + fib_memo(n-2) # memorization\n",
    "    return memo[n]\n",
    "print(fib_memo(50))"
   ]
  },
  {
   "cell_type": "code",
   "execution_count": 2,
   "outputs": [
    {
     "name": "stdout",
     "text": [
      "12586269025\n"
     ],
     "output_type": "stream"
    },
    {
     "data": {
      "text/plain": "TestResults(failed=0, attempted=2)"
     },
     "metadata": {},
     "output_type": "execute_result",
     "execution_count": 2
    }
   ],
   "source": [
    "#атвоматическая мемоизация\n",
    "# 0 1 2 3 5 8\n",
    "# 1 2 3 4 5 6\n",
    "from functools import lru_cache\n",
    "@lru_cache(maxsize=None)\n",
    "def fib4(n: int) -> int:\n",
    "    \"\"\"\n",
    "    >>> fib4(6)\n",
    "    8\n",
    "    >>> fib4(50)\n",
    "    12586269025\"\"\"\n",
    "    if n<2: # basic case\n",
    "        return n\n",
    "    return fib4(n-2) + fib4(n-1)\n",
    "print(fib4(50))\n",
    "#if __name__=='__main__': \\\n",
    "import doctest\n",
    "doctest.testmod()\n"
   ],
   "metadata": {
    "collapsed": false,
    "pycharm": {
     "name": "#%%\n",
     "is_executing": false
    }
   }
  },
  {
   "cell_type": "code",
   "execution_count": 3,
   "outputs": [
    {
     "name": "stdout",
     "text": [
      "12586269025\n"
     ],
     "output_type": "stream"
    }
   ],
   "source": [
    "def fib_iter(n: int) -> int:\n",
    "    if n==0: return n\n",
    "    last: int = 0# f(0)\n",
    "    next: int = 1# f(1)\n",
    "    for _ in range(1, n):\n",
    "        last, next = next, last + next\n",
    "    return next\n",
    "print(fib_iter(50))"
   ],
   "metadata": {
    "collapsed": false,
    "pycharm": {
     "name": "#%%\n",
     "is_executing": false
    }
   }
  },
  {
   "cell_type": "code",
   "execution_count": 5,
   "outputs": [
    {
     "name": "stdout",
     "text": [
      "0 1 1 2 3 5 8 13 21 34 55 "
     ],
     "output_type": "stream"
    }
   ],
   "source": [
    "# fib generator\n",
    "from typing import Generator\n",
    "\n",
    "def fib_gen(n: int) -> Generator[int, None, None]:\n",
    "    yield 0 # case special\n",
    "    if n > 0: yield 1 #case spec\n",
    "    last: int = 0 # fib(0)\n",
    "    next: int = 1 # fib(1)\n",
    "    for _ in range(1, n):\n",
    "        last, next = next, last + next\n",
    "        yield next # stage main generation\n",
    "for i in fib_gen(10):\n",
    "    print(i, end = \" \")"
   ],
   "metadata": {
    "collapsed": false,
    "pycharm": {
     "name": "#%%\n",
     "is_executing": false
    }
   }
  },
  {
   "cell_type": "code",
   "execution_count": 12,
   "outputs": [
    {
     "data": {
      "text/plain": "117669030460994"
     },
     "metadata": {},
     "output_type": "execute_result",
     "execution_count": 12
    }
   ],
   "source": [
    "def fib_digit(n):\n",
    "    sqrt5 = 5 ** 0.5\n",
    "    phi = (1 + sqrt5)/2\n",
    "    psi = (1 - sqrt5)/2\n",
    "    return int((phi ** n - psi ** n) / sqrt5)\n",
    "fib_digit(69)"
   ],
   "metadata": {
    "collapsed": false,
    "pycharm": {
     "name": "#%%\n",
     "is_executing": false
    }
   }
  },
  {
   "cell_type": "code",
   "execution_count": null,
   "outputs": [],
   "source": [
    "class CompressedGene:\n",
    "    def __init__(self, gene: str) -> None:\n",
    "        self._compress(gene)\n",
    "    def _compress(self, gene: ):\n",
    "        self.bit_string: int = 1  #начальная метка\n",
    "        for nucleotide in gene.upper():\n",
    "            self.bit_string <<= 2 #  сдвиг влево на два бита\n",
    "            if nucleotide == \"A\": # поменять два последних бита на 00\n",
    "                self.bit_string |= 0b00\n",
    "            if nucleotide == \"C\": # поменять два последних бита на 00\n",
    "                self.bit_string |= 0b01\n",
    "            if nucleotide == \"G\": # поменять два последних бита на 00\n",
    "                self.bit_string |= 0b10            \n",
    "            if nucleotide == \"T\":\n",
    "                self.bit_string |= 0b11\n",
    "            else:\n",
    "                raise ValueError(\"Invalid Nucleotid:{}\".format(nucleotide))\n",
    "\n",
    "\n",
    "\n"
   ],
   "metadata": {
    "collapsed": false,
    "pycharm": {
     "name": "#%%\n"
    }
   }
  }
 ],
 "metadata": {
  "kernelspec": {
   "display_name": "Python 3",
   "language": "python",
   "name": "python3"
  },
  "language_info": {
   "codemirror_mode": {
    "name": "ipython",
    "version": 2
   },
   "file_extension": ".py",
   "mimetype": "text/x-python",
   "name": "python",
   "nbconvert_exporter": "python",
   "pygments_lexer": "ipython2",
   "version": "2.7.6"
  },
  "pycharm": {
   "stem_cell": {
    "cell_type": "raw",
    "source": [],
    "metadata": {
     "collapsed": false
    }
   }
  }
 },
 "nbformat": 4,
 "nbformat_minor": 0
}