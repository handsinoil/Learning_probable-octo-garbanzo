{
 "cells": [
  {
   "cell_type": "code",
   "execution_count": 1,
   "metadata": {
    "collapsed": true,
    "pycharm": {
     "is_executing": false
    }
   },
   "outputs": [
    {
     "name": "stdout",
     "text": [
      " Квадратный корень\n",
      "1 3.5 0.25\n",
      "2 3.464285714285714285714285714 0.00127551020408163265306122\n",
      "3 3.464101620029455081001472754 3.389069518762973358E-8\n",
      "4 3.464101615137754590508707892 2.392873369E-17\n",
      "5 3.464101615137754587054892683 0E-26\n",
      "6 3.464101615137754587054892683 0E-26\n",
      "7 3.464101615137754587054892683 0E-26\n",
      "8 3.464101615137754587054892683 0E-26\n"
     ],
     "output_type": "stream"
    }
   ],
   "source": [
    "# num Pi\n",
    "from decimal import Decimal\n",
    "print(\" Квадратный корень\")\n",
    "number = Decimal(12)\n",
    "result = Decimal(3)\n",
    "for p in range(1,9):\n",
    "    result = (result+number/result)/Decimal(2)\n",
    "    difference = result**2 - number\n",
    "    print(p, result, difference)\n",
    "sqrt12 = result"
   ]
  }
 ],
 "metadata": {
  "kernelspec": {
   "display_name": "Python 3",
   "language": "python",
   "name": "python3"
  },
  "language_info": {
   "codemirror_mode": {
    "name": "ipython",
    "version": 2
   },
   "file_extension": ".py",
   "mimetype": "text/x-python",
   "name": "python",
   "nbconvert_exporter": "python",
   "pygments_lexer": "ipython2",
   "version": "2.7.6"
  },
  "pycharm": {
   "stem_cell": {
    "cell_type": "raw",
    "source": [],
    "metadata": {
     "collapsed": false
    }
   }
  }
 },
 "nbformat": 4,
 "nbformat_minor": 0
}