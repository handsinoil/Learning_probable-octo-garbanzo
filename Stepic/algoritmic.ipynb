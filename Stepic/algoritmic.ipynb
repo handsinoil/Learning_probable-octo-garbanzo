{
 "cells": [
  {
   "cell_type": "code",
   "execution_count": 7,
   "metadata": {
    "collapsed": true,
    "pycharm": {
     "is_executing": false,
     "name": "#%%\n"
    }
   },
   "outputs": [
    {
     "name": "stdout",
     "text": [
      "5\n"
     ],
     "output_type": "stream"
    }
   ],
   "source": [
    "def fib_iter(n: int) -> int:\n",
    "    if n==0: return n\n",
    "    last: int = 0# f(0)\n",
    "    next: int = 1# f(1)\n",
    "    for _ in range(1, n):\n",
    "        last, next = next, (last + next)%10\n",
    "    return next\n",
    "print(fib_iter(700000))\n"
   ]
  }
 ],
 "metadata": {
  "kernelspec": {
   "display_name": "Python 3",
   "language": "python",
   "name": "python3"
  },
  "language_info": {
   "codemirror_mode": {
    "name": "ipython",
    "version": 2
   },
   "file_extension": ".py",
   "mimetype": "text/x-python",
   "name": "python",
   "nbconvert_exporter": "python",
   "pygments_lexer": "ipython2",
   "version": "2.7.6"
  },
  "pycharm": {
   "stem_cell": {
    "cell_type": "raw",
    "source": [],
    "metadata": {
     "collapsed": false
    }
   }
  }
 },
 "nbformat": 4,
 "nbformat_minor": 0
}