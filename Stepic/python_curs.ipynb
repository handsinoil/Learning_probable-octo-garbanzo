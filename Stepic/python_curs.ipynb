{
 "cells": [
  {
   "cell_type": "code",
   "execution_count": 46,
   "outputs": [],
   "source": [
    "class MoneyBox:\n",
    "    def __init__(self, capacity):\n",
    "        self.capacity = capacity\n",
    "\n",
    "    def can_add(self, b):\n",
    "        if b <= self.capacity:\n",
    "            return True\n",
    "        else: return False\n",
    "    def add(self, b):\n",
    "        if self.can_add(b):\n",
    "            self.capacity = self.capacity - b\n"
   ],
   "metadata": {
    "collapsed": false,
    "pycharm": {
     "name": "#%%",
     "is_executing": false
    }
   }
  },
  {
   "cell_type": "code",
   "execution_count": 47,
   "outputs": [
    {
     "name": "stdout",
     "text": [
      "15\n",
      "[]\n",
      "[2, 3]\n",
      "15\n",
      "[]\n",
      "15\n",
      "[0, 7, 8]\n",
      "15\n"
     ],
     "output_type": "stream"
    }
   ],
   "source": [
    "# first variable\n",
    "class Buffer:\n",
    "    def __init__(self):\n",
    "        self.t_buf = []\n",
    "    def get_current_part(self):\n",
    "        print(self.t_buf)\n",
    "    def add(self, *args):\n",
    "        _args = list(args)\n",
    "        self.t_buf = self.t_buf + _args\n",
    "        while True:\n",
    "            if len(self.t_buf) < 5: break\n",
    "            elif len(self.t_buf) == 5:\n",
    "                print(sum(self.t_buf))\n",
    "                self.t_buf =[]              \n",
    "            elif len(self.t_buf) > 5:\n",
    "                print(sum(self.t_buf[:5]))\n",
    "                self.t_buf = self.t_buf[5:]\n",
    "\n",
    "x = Buffer()\n",
    "x.add(2, 3, 4, 5, 1)\n",
    "x.get_current_part()\n",
    "x.add(2, 3,)\n",
    "x.get_current_part()\n",
    "x.add(1, 4, 5)\n",
    "x.get_current_part()\n",
    "x.add(1, 2, 3, 4, 5, 0, 7, 8)\n",
    "x.get_current_part()\n",
    "x.add(0, 0)\n",
    "                \n",
    "        "
   ],
   "metadata": {
    "collapsed": false,
    "pycharm": {
     "name": "#%%\n",
     "is_executing": false
    }
   }
  },
  {
   "cell_type": "code",
   "execution_count": 48,
   "outputs": [
    {
     "name": "stdout",
     "text": [
      "15\n",
      "[]\n",
      "[2, 3]\n",
      "15\n",
      "[]\n",
      "15\n",
      "[0, 7, 8]\n",
      "15\n"
     ],
     "output_type": "stream"
    }
   ],
   "source": [
    "# next variable\n",
    "\n",
    "class Buffer:\n",
    "\tdef __init__(self):\n",
    "\t\tself.buf=[]\n",
    "\tdef add(self, *a):\n",
    "\t\tself.buf.extend(a)\n",
    "\t\twhile len(self.buf)>=5:\n",
    "\t\t\tprint(sum(self.buf[:5]))\n",
    "\t\t\tdel(self.buf[:5])\n",
    "\tdef get_current_part(self):\n",
    "\t\treturn print(self.buf)\n",
    "\n",
    "x = Buffer()\n",
    "x.add(2, 3, 4, 5, 1)\n",
    "x.get_current_part()\n",
    "x.add(2, 3,)\n",
    "x.get_current_part()\n",
    "x.add(1, 4, 5)\n",
    "x.get_current_part()\n",
    "x.add(1, 2, 3, 4, 5, 0, 7, 8)\n",
    "x.get_current_part()\n",
    "x.add(0, 0)"
   ],
   "metadata": {
    "collapsed": false,
    "pycharm": {
     "name": "#%%\n",
     "is_executing": false
    }
   }
  },
  {
   "cell_type": "code",
   "execution_count": 49,
   "outputs": [
    {
     "name": "stdout",
     "text": [
      "[]\n",
      "False\n",
      "[<class '__main__.Mylist'>, <class 'list'>, <class 'object'>]\n"
     ],
     "output_type": "stream"
    }
   ],
   "source": [
    "class Mylist(list):\n",
    "    def eve(self):\n",
    "       return len(self)%2==0\n",
    "x=Mylist()\n",
    "print(x)\n",
    "x.extend([1, 2, 3])\n",
    "\n",
    "print(issubclass(list, Mylist))\n",
    "isinstance(x, Mylist)\n",
    "\n",
    "print(Mylist.mro())"
   ],
   "metadata": {
    "collapsed": false,
    "pycharm": {
     "name": "#%%\n",
     "is_executing": false
    }
   }
  },
  {
   "cell_type": "code",
   "execution_count": 50,
   "outputs": [
    {
     "name": "stdout",
     "text": [
      "[<class '__main__.E'>,\n",
      " <class '__main__.B'>,\n",
      " <class '__main__.A'>,\n",
      " <class '__main__.D'>,\n",
      " <class '__main__.C'>,\n",
      " <class 'object'>]\n"
     ],
     "output_type": "stream"
    }
   ],
   "source": [
    "class A:\n",
    "    pass\n",
    "\n",
    "class B(A):\n",
    "    pass\n",
    "\n",
    "class C:\n",
    "    pass\n",
    "\n",
    "class D(C):\n",
    "    pass\n",
    "\n",
    "class E(B, D):\n",
    "    pass\n",
    "x= E()\n",
    "\n",
    "import pprint\n",
    "pprint.pprint(E.mro())"
   ],
   "metadata": {
    "collapsed": false,
    "pycharm": {
     "name": "#%%\n",
     "is_executing": false
    }
   }
  },
  {
   "cell_type": "code",
   "execution_count": 54,
   "outputs": [
    {
     "name": "stdout",
     "text": [
      "{'B': ['A'], 'C': ['A'], 'D': ['B', 'C']}\n"
     ],
     "output_type": "stream"
    }
   ],
   "source": [
    "lst = ['A', 'B : A', 'C : A', 'D : B C']\n",
    "lst[1].split(\" : \")\n",
    "a= set(['q', 'w'])\n",
    "b = set(['q', 'e'])\n",
    "nasl = dict()\n",
    "def mro(lst):\n",
    "    global nasl\n",
    "    for i in lst:\n",
    "        d = i.split(' : ')\n",
    "        if d.__len__()>1:\n",
    "            nasl[d[0]]=d[1].split(\" \")\n",
    "            \n",
    "\n",
    "mro(lst)\n",
    "print(nasl)\n"
   ],
   "metadata": {
    "collapsed": false,
    "pycharm": {
     "name": "#%%\n",
     "is_executing": false
    }
   }
  },
  {
   "cell_type": "code",
   "execution_count": 105,
   "outputs": [
    {
     "name": "stdout",
     "text": [
      "{'A': set(), 'B': set(), 'C': set()}\n",
      "{'B': ['A'], 'C': ['A'], 'D': ['B', 'C']}\n",
      "{'A': {'C', 'B'}, 'B': {'D'}, 'C': {'D'}}\n",
      "['A B', 'B D', 'C D', 'D A', 'A D']\n",
      "Yes\n",
      "Yes\n",
      "Yes\n",
      "No\n",
      "No\n"
     ],
     "output_type": "stream"
    }
   ],
   "source": [
    "\"\"\"\n",
    "________________________|Clamping_____\n",
    "dict{Parent:{children, }<--[]<--stdin\n",
    "^| - обработать вх. данные\n",
    " | - создать структуру наследования\n",
    " | - проверить наследование\n",
    "\"\"\"\n",
    "\n",
    "in_std = \"\"\"4\n",
    "A\n",
    "B : A\n",
    "C : A\n",
    "D : B C\n",
    "5\n",
    "A B\n",
    "B D\n",
    "C D\n",
    "D A\n",
    "A D\n",
    "\"\"\".split('\\n')\n",
    "import sys\n",
    "\n",
    "def treatment(s):\n",
    "    n = int(s[0])\n",
    "    nlst= [i.strip('\\r\\n') for i in s[1:n+1]]\n",
    "    q = int(s[n+1].strip('\\r\\n'))\n",
    "    qlst = [i.strip('\\r\\n') for i in s[n+2:n+q+2]]\n",
    "    return nlst, qlst\n",
    " \n",
    "pre_struct = dict()      \n",
    "struct = dict()\n",
    "def create_struct(nlst):\n",
    "    global struct\n",
    "    global pre_struct\n",
    "    for i in nlst:\n",
    "        d = i.split(' : ')\n",
    "        if len(d) > 1:\n",
    "            d_0 = d[0].strip()\n",
    "            d_1 = d[1].strip().split(\" \")\n",
    "            pre_struct[d_0] = d_1\n",
    "            for j in d_1:\n",
    "                struct[j] = set()\n",
    "\n",
    "def add_to_struct():\n",
    "    global struct\n",
    "    global pre_struct\n",
    "    for k, v in pre_struct.items():\n",
    "        for l in v:\n",
    "            struct[l].add(k)\n",
    "\n",
    "def check_inheritance(q_lst):\n",
    "    global struct\n",
    "    for i in q_lst:\n",
    "        d = i.strip().split(\" \")\n",
    "        if d[0] in struct:\n",
    "            if d[1] in struct[d[0]]:\n",
    "                print(\"Yes\")\n",
    "            else: print(\"No\")\n",
    "        else: print(\"No\")\n",
    "n_lst, q_lst = treatment(in_std)\n",
    "\n",
    "create_struct(n_lst)\n",
    "print(struct)\n",
    "add_to_struct()\n",
    "print(pre_struct)\n",
    "print(struct)\n",
    "print(q_lst)\n",
    "check_inheritance(q_lst)\n",
    "\n",
    "\n",
    "\n",
    "\n"
   ],
   "metadata": {
    "collapsed": false,
    "pycharm": {
     "name": "#%%\n",
     "is_executing": false
    }
   }
  },
  {
   "cell_type": "code",
   "execution_count": null,
   "outputs": [],
   "source": [
    "import sys\n",
    "s=sys.stdin.readlines()\n",
    "\n",
    "def treatment(s):\n",
    "    n = int(s[0])\n",
    "    nlst= [i.strip('\\r\\n') for i in s[1:n+1]]\n",
    "    q = int(s[n+1].strip('\\r\\n'))\n",
    "    qlst = [i.strip('\\r\\n') for i in s[n+2:n+q+2]]\n",
    "    return nlst, qlst\n",
    " \n",
    "pre_struct = dict()      \n",
    "struct = dict()\n",
    "def create_struct(nlst):\n",
    "    global struct\n",
    "    global pre_struct\n",
    "    for i in nlst:\n",
    "        d = i.split(' : ')\n",
    "        if len(d) > 1:\n",
    "            d_0 = d[0].strip()\n",
    "            d_1 = d[1].strip().split(\" \")\n",
    "            pre_struct[d_0] = d_1\n",
    "            for j in d_1:\n",
    "                struct[j] = set()\n",
    "\n",
    "def add_to_struct():\n",
    "    global struct\n",
    "    global pre_struct\n",
    "    for k, v in pre_struct.items():\n",
    "        for l in v:\n",
    "            struct[l].add(k)\n",
    "\n",
    "def check_inheritance(q_lst):\n",
    "    global struct\n",
    "    for i in q_lst:\n",
    "        d = i.strip().split(\" \")\n",
    "        if d[0] in struct:\n",
    "            if d[1] in struct[d[0]]:\n",
    "                print(\"Yes\")\n",
    "            else: print(\"No\")\n",
    "        else: print(\"No\")\n",
    "n_lst, q_lst = treatment(s)\n",
    "\n",
    "create_struct(n_lst)\n",
    "add_to_struct()\n",
    "check_inheritance(q_lst)\n"
   ],
   "metadata": {
    "collapsed": false,
    "pycharm": {
     "name": "#%%\n"
    }
   }
  }
 ],
 "metadata": {
  "kernelspec": {
   "display_name": "Python 3",
   "language": "python",
   "name": "python3"
  },
  "language_info": {
   "codemirror_mode": {
    "name": "ipython",
    "version": 2
   },
   "file_extension": ".py",
   "mimetype": "text/x-python",
   "name": "python",
   "nbconvert_exporter": "python",
   "pygments_lexer": "ipython2",
   "version": "2.7.6"
  },
  "pycharm": {
   "stem_cell": {
    "cell_type": "raw",
    "source": [],
    "metadata": {
     "collapsed": false
    }
   }
  }
 },
 "nbformat": 4,
 "nbformat_minor": 0
}