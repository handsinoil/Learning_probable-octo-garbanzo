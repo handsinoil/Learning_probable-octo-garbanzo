{
 "cells": [
  {
   "cell_type": "code",
   "execution_count": 46,
   "outputs": [],
   "source": [
    "class MoneyBox:\n",
    "    def __init__(self, capacity):\n",
    "        self.capacity = capacity\n",
    "\n",
    "    def can_add(self, b):\n",
    "        if b <= self.capacity:\n",
    "            return True\n",
    "        else: return False\n",
    "    def add(self, b):\n",
    "        if self.can_add(b):\n",
    "            self.capacity = self.capacity - b\n"
   ],
   "metadata": {
    "collapsed": false,
    "pycharm": {
     "name": "#%%",
     "is_executing": false
    }
   }
  },
  {
   "cell_type": "code",
   "execution_count": 47,
   "outputs": [
    {
     "name": "stdout",
     "text": [
      "15\n",
      "[]\n",
      "[2, 3]\n",
      "15\n",
      "[]\n",
      "15\n",
      "[0, 7, 8]\n",
      "15\n"
     ],
     "output_type": "stream"
    }
   ],
   "source": [
    "# first variable\n",
    "class Buffer:\n",
    "    def __init__(self):\n",
    "        self.t_buf = []\n",
    "    def get_current_part(self):\n",
    "        print(self.t_buf)\n",
    "    def add(self, *args):\n",
    "        _args = list(args)\n",
    "        self.t_buf = self.t_buf + _args\n",
    "        while True:\n",
    "            if len(self.t_buf) < 5: break\n",
    "            elif len(self.t_buf) == 5:\n",
    "                print(sum(self.t_buf))\n",
    "                self.t_buf =[]              \n",
    "            elif len(self.t_buf) > 5:\n",
    "                print(sum(self.t_buf[:5]))\n",
    "                self.t_buf = self.t_buf[5:]\n",
    "\n",
    "x = Buffer()\n",
    "x.add(2, 3, 4, 5, 1)\n",
    "x.get_current_part()\n",
    "x.add(2, 3,)\n",
    "x.get_current_part()\n",
    "x.add(1, 4, 5)\n",
    "x.get_current_part()\n",
    "x.add(1, 2, 3, 4, 5, 0, 7, 8)\n",
    "x.get_current_part()\n",
    "x.add(0, 0)\n",
    "                \n",
    "        "
   ],
   "metadata": {
    "collapsed": false,
    "pycharm": {
     "name": "#%%\n",
     "is_executing": false
    }
   }
  },
  {
   "cell_type": "code",
   "execution_count": 48,
   "outputs": [
    {
     "name": "stdout",
     "text": [
      "15\n",
      "[]\n",
      "[2, 3]\n",
      "15\n",
      "[]\n",
      "15\n",
      "[0, 7, 8]\n",
      "15\n"
     ],
     "output_type": "stream"
    }
   ],
   "source": [
    "# next variable\n",
    "\n",
    "class Buffer:\n",
    "\tdef __init__(self):\n",
    "\t\tself.buf=[]\n",
    "\tdef add(self, *a):\n",
    "\t\tself.buf.extend(a)\n",
    "\t\twhile len(self.buf)>=5:\n",
    "\t\t\tprint(sum(self.buf[:5]))\n",
    "\t\t\tdel(self.buf[:5])\n",
    "\tdef get_current_part(self):\n",
    "\t\treturn print(self.buf)\n",
    "\n",
    "x = Buffer()\n",
    "x.add(2, 3, 4, 5, 1)\n",
    "x.get_current_part()\n",
    "x.add(2, 3,)\n",
    "x.get_current_part()\n",
    "x.add(1, 4, 5)\n",
    "x.get_current_part()\n",
    "x.add(1, 2, 3, 4, 5, 0, 7, 8)\n",
    "x.get_current_part()\n",
    "x.add(0, 0)"
   ],
   "metadata": {
    "collapsed": false,
    "pycharm": {
     "name": "#%%\n",
     "is_executing": false
    }
   }
  },
  {
   "cell_type": "code",
   "execution_count": 49,
   "outputs": [
    {
     "name": "stdout",
     "text": [
      "[]\n",
      "False\n",
      "[<class '__main__.Mylist'>, <class 'list'>, <class 'object'>]\n"
     ],
     "output_type": "stream"
    }
   ],
   "source": [
    "class Mylist(list):\n",
    "    def eve(self):\n",
    "       return len(self)%2==0\n",
    "x=Mylist()\n",
    "print(x)\n",
    "x.extend([1, 2, 3])\n",
    "\n",
    "print(issubclass(list, Mylist))\n",
    "isinstance(x, Mylist)\n",
    "\n",
    "print(Mylist.mro())"
   ],
   "metadata": {
    "collapsed": false,
    "pycharm": {
     "name": "#%%\n",
     "is_executing": false
    }
   }
  },
  {
   "cell_type": "code",
   "execution_count": 50,
   "outputs": [
    {
     "name": "stdout",
     "text": [
      "[<class '__main__.E'>,\n",
      " <class '__main__.B'>,\n",
      " <class '__main__.A'>,\n",
      " <class '__main__.D'>,\n",
      " <class '__main__.C'>,\n",
      " <class 'object'>]\n"
     ],
     "output_type": "stream"
    }
   ],
   "source": [
    "class A:\n",
    "    pass\n",
    "\n",
    "class B(A):\n",
    "    pass\n",
    "\n",
    "class C:\n",
    "    pass\n",
    "\n",
    "class D(C):\n",
    "    pass\n",
    "\n",
    "class E(B, D):\n",
    "    pass\n",
    "x= E()\n",
    "\n",
    "import pprint\n",
    "pprint.pprint(E.mro())"
   ],
   "metadata": {
    "collapsed": false,
    "pycharm": {
     "name": "#%%\n",
     "is_executing": false
    }
   }
  },
  {
   "cell_type": "code",
   "execution_count": 49,
   "outputs": [
    {
     "name": "stdout",
     "text": [
      "{'a': [['a', 'a'], ['a', 'b', 'c', 'y']], 'b': [['a'], ['d']], 'c': [['a'], ['d']], 'y': [['a', 'x'], ['d', 'v']], 'd': [['b', 'c', 'y'], ['e', 'f']], 'e': [['d'], []], 'f': [['d'], ['g']], 'g': [['f'], []], 'x': [['x'], ['y', 'x', 'z']], 'z': [['x'], ['v']], 'v': [['y', 'z'], ['w']], 'w': [['v'], []]}\n"
     ],
     "output_type": "stream"
    }
   ],
   "source": [
    "d = {'a': ['a', 'a'], 'b': ['a'], 'c': ['a'], 'y': ['a', 'x'],\n",
    "     'd': ['b', 'c', 'y'], 'e': ['d'], 'f': ['d'], 'g': ['f'],\n",
    "     'x': ['x'], 'z': ['x'], 'v': ['y', 'z'], 'w': ['v']}\n",
    "#('el': [[], []])\n",
    "el = dict()\n",
    "for k, v in d.items():\n",
    "    el[k] = [v, []]\n",
    "    for e, l in d.items():\n",
    "        if k in l:\n",
    "            el[k][1].append(e)\n",
    "    \n",
    "print(el)"
   ],
   "metadata": {
    "collapsed": false,
    "pycharm": {
     "name": "#%%\n",
     "is_executing": false
    }
   }
  },
  {
   "cell_type": "code",
   "execution_count": null,
   "outputs": [],
   "source": [
    "\"\"\"Какие варианты есть для записи структуры\n",
    "1) реб: род, дети: род\n",
    "2) род: все пути с детьми\n",
    "3) список с уровнями узлов род:реб\n",
    " \n",
    "\"\"\"\n"
   ],
   "metadata": {
    "collapsed": false,
    "pycharm": {
     "name": "#%%\n"
    }
   }
  },
  {
   "cell_type": "code",
   "execution_count": 34,
   "outputs": [
    {
     "name": "stdout",
     "text": [
      "[{'a': []},\n",
      " {'b': ['a']},\n",
      " {'c': ['a']},\n",
      " {'y': ['a']},\n",
      " {'d': ['b c y']},\n",
      " {'e': ['d']},\n",
      " {'f': ['d']},\n",
      " {'g': ['f']},\n",
      " {'x': []},\n",
      " {'y': ['x']},\n",
      " {'z': ['x']},\n",
      " {'v': ['y z']},\n",
      " {'w': ['v']}]\n",
      "\n"
     ],
     "output_type": "stream"
    }
   ],
   "source": [
    "nlst = ['a', 'b : a', 'c : a', 'y : a',\n",
    "        'd : b c y', 'e : d', 'f : d',\n",
    "        'g : f', 'x', 'y : x', 'z : x', 'v : y z', 'w : v']\n",
    "\n",
    "# 1) заполню список словарями\n",
    "n_dict1= []\n",
    "for i in nlst:\n",
    "    i_0, *i_1 = i.split(\" : \")\n",
    "    n_dict1.append({i_0 : i_1})\n",
    "\n",
    "from pprint import pprint\n",
    "       \n",
    "pprint(n_dict1)\n",
    "print()"
   ],
   "metadata": {
    "collapsed": false,
    "pycharm": {
     "name": "#%%\n",
     "is_executing": false
    }
   }
  },
  {
   "cell_type": "code",
   "execution_count": 40,
   "outputs": [
    {
     "name": "stdout",
     "text": [
      "{'a': [],\n",
      " 'b': ['a'],\n",
      " 'c': ['a'],\n",
      " 'd': ['b c y'],\n",
      " 'e': ['d'],\n",
      " 'f': ['d'],\n",
      " 'g': ['f'],\n",
      " 'v': ['y z'],\n",
      " 'w': ['v'],\n",
      " 'x': [],\n",
      " 'y': ['x'],\n",
      " 'z': ['x']}\n",
      "\n"
     ],
     "output_type": "stream"
    }
   ],
   "source": [
    "n_dict2 = dict()\n",
    "# положу все в словарь\n",
    "for i in nlst:\n",
    "    i_0, *i_1 = i.split(\" : \")\n",
    "    n_dict2.update({i_0 : i_1})\n",
    "from pprint import pprint\n",
    "       \n",
    "pprint(n_dict2)\n",
    "print()"
   ],
   "metadata": {
    "collapsed": false,
    "pycharm": {
     "name": "#%%\n",
     "is_executing": false
    }
   }
  },
  {
   "cell_type": "code",
   "execution_count": 52,
   "outputs": [
    {
     "name": "stdout",
     "text": [
      "None None\n"
     ],
     "output_type": "stream"
    }
   ],
   "source": [
    "graph1 ={'A': ['B', 'C'], 'B': ['C', 'D'], 'C': ['D'], 'D': ['C'], 'E': ['F'], 'F': ['C']}\n",
    "\n",
    "graph2 ={'b': ['a'], 'c': ['a'], 'y': ['a', 'x'],\n",
    "        'd': ['b', 'c', 'y'], 'e': ['d'], 'f': ['d'],\n",
    "        'g': ['f'], 'z': ['x'], 'v': ['y', 'z'], 'w': ['v']}\n",
    "\n",
    "def find_path(graph, chi, par, path=[]):\n",
    "    path = path + [chi]\n",
    "    if chi == par:\n",
    "        return path\n",
    "    if chi not in graph:\n",
    "        return None\n",
    "    for node in graph[chi]:\n",
    "        if node not in path:\n",
    "            newpath = find_path(graph, node, par, path)\n",
    "            if newpath: return newpath\n",
    "\n",
    "find_path(graph1, 'A', 'D')\n",
    "l=find_path(graph2, 'w', 'm')\n",
    "print(l, l)"
   ],
   "metadata": {
    "collapsed": false,
    "pycharm": {
     "name": "#%%\n",
     "is_executing": false
    }
   }
  }
 ],
 "metadata": {
  "kernelspec": {
   "display_name": "Python 3",
   "language": "python",
   "name": "python3"
  },
  "language_info": {
   "codemirror_mode": {
    "name": "ipython",
    "version": 2
   },
   "file_extension": ".py",
   "mimetype": "text/x-python",
   "name": "python",
   "nbconvert_exporter": "python",
   "pygments_lexer": "ipython2",
   "version": "2.7.6"
  },
  "pycharm": {
   "stem_cell": {
    "cell_type": "raw",
    "source": [],
    "metadata": {
     "collapsed": false
    }
   }
  }
 },
 "nbformat": 4,
 "nbformat_minor": 0
}