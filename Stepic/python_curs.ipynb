{
 "cells": [
  {
   "cell_type": "code",
   "execution_count": 46,
   "outputs": [],
   "source": [
    "class MoneyBox:\n",
    "    def __init__(self, capacity):\n",
    "        self.capacity = capacity\n",
    "\n",
    "    def can_add(self, b):\n",
    "        if b <= self.capacity:\n",
    "            return True\n",
    "        else: return False\n",
    "    def add(self, b):\n",
    "        if self.can_add(b):\n",
    "            self.capacity = self.capacity - b\n"
   ],
   "metadata": {
    "collapsed": false,
    "pycharm": {
     "name": "#%%",
     "is_executing": false
    }
   }
  },
  {
   "cell_type": "code",
   "execution_count": 47,
   "outputs": [
    {
     "name": "stdout",
     "text": [
      "15\n",
      "[]\n",
      "[2, 3]\n",
      "15\n",
      "[]\n",
      "15\n",
      "[0, 7, 8]\n",
      "15\n"
     ],
     "output_type": "stream"
    }
   ],
   "source": [
    "# first variable\n",
    "class Buffer:\n",
    "    def __init__(self):\n",
    "        self.t_buf = []\n",
    "    def get_current_part(self):\n",
    "        print(self.t_buf)\n",
    "    def add(self, *args):\n",
    "        _args = list(args)\n",
    "        self.t_buf = self.t_buf + _args\n",
    "        while True:\n",
    "            if len(self.t_buf) < 5: break\n",
    "            elif len(self.t_buf) == 5:\n",
    "                print(sum(self.t_buf))\n",
    "                self.t_buf =[]              \n",
    "            elif len(self.t_buf) > 5:\n",
    "                print(sum(self.t_buf[:5]))\n",
    "                self.t_buf = self.t_buf[5:]\n",
    "\n",
    "x = Buffer()\n",
    "x.add(2, 3, 4, 5, 1)\n",
    "x.get_current_part()\n",
    "x.add(2, 3,)\n",
    "x.get_current_part()\n",
    "x.add(1, 4, 5)\n",
    "x.get_current_part()\n",
    "x.add(1, 2, 3, 4, 5, 0, 7, 8)\n",
    "x.get_current_part()\n",
    "x.add(0, 0)\n",
    "                \n",
    "        "
   ],
   "metadata": {
    "collapsed": false,
    "pycharm": {
     "name": "#%%\n",
     "is_executing": false
    }
   }
  },
  {
   "cell_type": "code",
   "execution_count": 48,
   "outputs": [
    {
     "name": "stdout",
     "text": [
      "15\n",
      "[]\n",
      "[2, 3]\n",
      "15\n",
      "[]\n",
      "15\n",
      "[0, 7, 8]\n",
      "15\n"
     ],
     "output_type": "stream"
    }
   ],
   "source": [
    "# next variable\n",
    "\n",
    "class Buffer:\n",
    "\tdef __init__(self):\n",
    "\t\tself.buf=[]\n",
    "\tdef add(self, *a):\n",
    "\t\tself.buf.extend(a)\n",
    "\t\twhile len(self.buf)>=5:\n",
    "\t\t\tprint(sum(self.buf[:5]))\n",
    "\t\t\tdel(self.buf[:5])\n",
    "\tdef get_current_part(self):\n",
    "\t\treturn print(self.buf)\n",
    "\n",
    "x = Buffer()\n",
    "x.add(2, 3, 4, 5, 1)\n",
    "x.get_current_part()\n",
    "x.add(2, 3,)\n",
    "x.get_current_part()\n",
    "x.add(1, 4, 5)\n",
    "x.get_current_part()\n",
    "x.add(1, 2, 3, 4, 5, 0, 7, 8)\n",
    "x.get_current_part()\n",
    "x.add(0, 0)"
   ],
   "metadata": {
    "collapsed": false,
    "pycharm": {
     "name": "#%%\n",
     "is_executing": false
    }
   }
  },
  {
   "cell_type": "code",
   "execution_count": 49,
   "outputs": [
    {
     "name": "stdout",
     "text": [
      "[]\n",
      "False\n",
      "[<class '__main__.Mylist'>, <class 'list'>, <class 'object'>]\n"
     ],
     "output_type": "stream"
    }
   ],
   "source": [
    "class Mylist(list):\n",
    "    def eve(self):\n",
    "       return len(self)%2==0\n",
    "x=Mylist()\n",
    "print(x)\n",
    "x.extend([1, 2, 3])\n",
    "\n",
    "print(issubclass(list, Mylist))\n",
    "isinstance(x, Mylist)\n",
    "\n",
    "print(Mylist.mro())"
   ],
   "metadata": {
    "collapsed": false,
    "pycharm": {
     "name": "#%%\n",
     "is_executing": false
    }
   }
  },
  {
   "cell_type": "code",
   "execution_count": 50,
   "outputs": [
    {
     "name": "stdout",
     "text": [
      "[<class '__main__.E'>,\n",
      " <class '__main__.B'>,\n",
      " <class '__main__.A'>,\n",
      " <class '__main__.D'>,\n",
      " <class '__main__.C'>,\n",
      " <class 'object'>]\n"
     ],
     "output_type": "stream"
    }
   ],
   "source": [
    "class A:\n",
    "    pass\n",
    "\n",
    "class B(A):\n",
    "    pass\n",
    "\n",
    "class C:\n",
    "    pass\n",
    "\n",
    "class D(C):\n",
    "    pass\n",
    "\n",
    "class E(B, D):\n",
    "    pass\n",
    "x= E()\n",
    "\n",
    "import pprint\n",
    "pprint.pprint(E.mro())"
   ],
   "metadata": {
    "collapsed": false,
    "pycharm": {
     "name": "#%%\n",
     "is_executing": false
    }
   }
  },
  {
   "cell_type": "code",
   "execution_count": 20,
   "outputs": [
    {
     "name": "stdout",
     "text": [
      "No\n"
     ],
     "output_type": "stream"
    }
   ],
   "source": [
    "d = {'a': ['a', 'a'], 'b': ['a'], 'c': ['a'], 'y': ['a', 'x'], 'd': ['b', 'c', 'y'], 'e': ['d'], 'f': ['d'], 'g': ['f'], 'x': ['x'], 'z': ['x'], 'v': ['y', 'z'], 'w': ['v']}\n",
    "\n",
    "def rec(d, par, chi):\n",
    "    if par in d[chi]:\n",
    "        return \"Yes\"\n",
    "    elif chi in d[chi]:\n",
    "        return  \"No\"\n",
    "    elif chi not in d[chi] and par not in d[chi]:\n",
    "        for i in d[chi]:\n",
    "            return rec(d, par, i)\n",
    "        \n",
    "an = rec(d, 'x', 'd')\n",
    "print(an)"
   ],
   "metadata": {
    "collapsed": false,
    "pycharm": {
     "name": "#%%\n",
     "is_executing": false
    }
   }
  }
 ],
 "metadata": {
  "kernelspec": {
   "display_name": "Python 3",
   "language": "python",
   "name": "python3"
  },
  "language_info": {
   "codemirror_mode": {
    "name": "ipython",
    "version": 2
   },
   "file_extension": ".py",
   "mimetype": "text/x-python",
   "name": "python",
   "nbconvert_exporter": "python",
   "pygments_lexer": "ipython2",
   "version": "2.7.6"
  },
  "pycharm": {
   "stem_cell": {
    "cell_type": "raw",
    "source": [],
    "metadata": {
     "collapsed": false
    }
   }
  }
 },
 "nbformat": 4,
 "nbformat_minor": 0
}