{
 "cells": [
  {
   "cell_type": "code",
   "execution_count": 60,
   "outputs": [
    {
     "name": "stdout",
     "text": [
      "False 7 3\n"
     ],
     "output_type": "stream"
    }
   ],
   "source": [
    "class MoneyBox:\n",
    "    def __init__(self, capacity):\n",
    "        self.capacity = capacity\n",
    "\n",
    "    def can_add(self, b):\n",
    "        if b <= self.capacity:\n",
    "            return True\n",
    "        else: return False\n",
    "    def add(self, b):\n",
    "        if self.can_add(b):\n",
    "            self.capacity = self.capacity - b\n"
   ],
   "metadata": {
    "collapsed": false,
    "pycharm": {
     "name": "#%%",
     "is_executing": false
    }
   }
  },
  {
   "cell_type": "code",
   "execution_count": 9,
   "outputs": [
    {
     "name": "stdout",
     "text": [
      "15\n[]\n[2, 3]\n15\n[]\n15\n[0, 7, 8]\n15\n"
     ],
     "output_type": "stream"
    }
   ],
   "source": [
    "class Buffer:\n",
    "    def __init__(self):\n",
    "        self.t_buf = []\n",
    "    def get_current_part(self):\n",
    "        print(self.t_buf)\n",
    "    def add(self, *args):\n",
    "        _args = list(args)\n",
    "        self.t_buf = self.t_buf + _args\n",
    "        while True:\n",
    "            if len(self.t_buf) < 5: break\n",
    "            elif len(self.t_buf) == 5:\n",
    "                print(sum(self.t_buf))\n",
    "                self.t_buf =[]              \n",
    "            elif len(self.t_buf) > 5:\n",
    "                print(sum(self.t_buf[:5]))\n",
    "                self.t_buf = self.t_buf[5:]\n",
    "\n",
    "x = Buffer()\n",
    "x.add(2, 3, 4, 5, 1)\n",
    "x.get_current_part()\n",
    "x.add(2, 3,)\n",
    "x.get_current_part()\n",
    "x.add(1, 4, 5)\n",
    "x.get_current_part()\n",
    "x.add(1, 2, 3, 4, 5, 0, 7, 8)\n",
    "x.get_current_part()\n",
    "x.add(0, 0)\n",
    "                \n",
    "        \n"
   ],
   "metadata": {
    "collapsed": false,
    "pycharm": {
     "name": "#%%\n",
     "is_executing": false
    }
   }
  }
 ],
 "metadata": {
  "kernelspec": {
   "display_name": "Python 3",
   "language": "python",
   "name": "python3"
  },
  "language_info": {
   "codemirror_mode": {
    "name": "ipython",
    "version": 2
   },
   "file_extension": ".py",
   "mimetype": "text/x-python",
   "name": "python",
   "nbconvert_exporter": "python",
   "pygments_lexer": "ipython2",
   "version": "2.7.6"
  },
  "pycharm": {
   "stem_cell": {
    "cell_type": "raw",
    "source": [],
    "metadata": {
     "collapsed": false
    }
   }
  }
 },
 "nbformat": 4,
 "nbformat_minor": 0
}