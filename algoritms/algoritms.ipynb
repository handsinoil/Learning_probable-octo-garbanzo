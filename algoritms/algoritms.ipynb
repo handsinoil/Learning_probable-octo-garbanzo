{
 "cells": [
  {
   "cell_type": "code",
   "execution_count": 66,
   "metadata": {
    "collapsed": true,
    "pycharm": {
     "is_executing": false
    }
   },
   "outputs": [
    {
     "traceback": [
      "\u001b[0;31m---------------------------------------------------------------------------\u001b[0m",
      "\u001b[0;31mTypeError\u001b[0m                                 Traceback (most recent call last)",
      "\u001b[0;32m<ipython-input-66-d11f8a4185cc>\u001b[0m in \u001b[0;36m<module>\u001b[0;34m\u001b[0m\n\u001b[1;32m     10\u001b[0m \"\"\"\n\u001b[1;32m     11\u001b[0m \u001b[0;32mfor\u001b[0m \u001b[0mi\u001b[0m \u001b[0;32min\u001b[0m \u001b[0mrange\u001b[0m\u001b[0;34m(\u001b[0m\u001b[0mn\u001b[0m\u001b[0;34m)\u001b[0m\u001b[0;34m:\u001b[0m\u001b[0;34m\u001b[0m\u001b[0;34m\u001b[0m\u001b[0m\n\u001b[0;32m---> 12\u001b[0;31m     \u001b[0mm\u001b[0m \u001b[0;34m=\u001b[0m \u001b[0mmin\u001b[0m\u001b[0;34m(\u001b[0m\u001b[0mA\u001b[0m\u001b[0;34m[\u001b[0m\u001b[0mi\u001b[0m\u001b[0;34m:\u001b[0m\u001b[0;34m]\u001b[0m\u001b[0;34m)\u001b[0m\u001b[0;34m\u001b[0m\u001b[0;34m\u001b[0m\u001b[0m\n\u001b[0m\u001b[1;32m     13\u001b[0m     \u001b[0mim\u001b[0m \u001b[0;34m=\u001b[0m \u001b[0mA\u001b[0m\u001b[0;34m.\u001b[0m\u001b[0mindex\u001b[0m\u001b[0;34m(\u001b[0m\u001b[0mm\u001b[0m\u001b[0;34m)\u001b[0m\u001b[0;34m\u001b[0m\u001b[0;34m\u001b[0m\u001b[0m\n\u001b[1;32m     14\u001b[0m     \u001b[0mp\u001b[0m \u001b[0;34m=\u001b[0m \u001b[0mA\u001b[0m\u001b[0;34m[\u001b[0m\u001b[0mi\u001b[0m\u001b[0;34m]\u001b[0m\u001b[0;34m\u001b[0m\u001b[0;34m\u001b[0m\u001b[0m\n",
      "\u001b[0;31mTypeError\u001b[0m: 'int' object is not callable"
     ],
     "ename": "TypeError",
     "evalue": "'int' object is not callable",
     "output_type": "error"
    }
   ],
   "source": [
    "#метод грубой силы\n",
    "#сортировка выбором\n",
    "A = [89, 45, 68, 90, 29, 17, 17,]\n",
    "b=[]\n",
    "n = len(A)\n",
    "\"\"\"\n",
    "1. Надо найти минимальный элемент\n",
    "2. Поместить его в 0 позицию\n",
    "3. Потом в i+1 позицию поместить мин эл из cпиcка [i+1:n-1]\n",
    "\"\"\"\n",
    "for i in range(n):\n",
    "    m = min(A[i:])\n",
    "    im = A.index(m)\n",
    "    p = A[i]\n",
    "    A[i] = m\n",
    "    A[im] = p\n",
    "print(A)\n",
    "# wrong"
   ]
  },
  {
   "cell_type": "code",
   "execution_count": null,
   "outputs": [],
   "source": [
    "A = [89, 45, 68, 90, 29, 17, 17,]\n",
    "\n",
    "print(A)\n",
    "\n",
    "for i in range(n-2):\n",
    "    imin = A.index(min(A[i:]))\n",
    "    an = A[i]\n",
    "    minimal = A[imin]\n",
    "    A[i] = minimal\n",
    "    A[imin] = an\n",
    "    print(A)\n",
    "# wrong"
   ],
   "metadata": {
    "collapsed": false,
    "pycharm": {
     "name": "#%%\n",
     "is_executing": false
    }
   }
  },
  {
   "cell_type": "code",
   "execution_count": 25,
   "outputs": [
    {
     "name": "stdout",
     "text": [
      "89  co id = 9304992\n",
      "89 C[0] id= 9304992\n",
      "______\n",
      "56  m  id = 9303936\n",
      "56 C[5] id= 9303936\n",
      "______\n",
      "56 C[0] id= 9303936\n",
      "89 C[5] id= 9304992\n",
      "89  co id = 9304992\n",
      "56 C[0] id= 9303936\n",
      "______\n"
     ],
     "output_type": "stream"
    }
   ],
   "source": [
    "C = [89, 45, 68, 90, 29, 56, 1,]\n",
    "#1) zero element\n",
    "\n",
    "co = C[0]\n",
    "print(co, \" co id =\", id(co))\n",
    "print(C[0],\"C[0] id=\", id(C[0]))\n",
    "print(\"______\")\n",
    "#2) mmin element\n",
    "\n",
    "m = C[5]\n",
    "print(m, \" m  id =\", id(m))\n",
    "print(C[5],\"C[5] id=\", id(C[5]))\n",
    "print(\"______\")\n",
    "\n",
    "#3) swap min el and zero\n",
    "C[0]=m\n",
    "C[5] = co\n",
    "\n",
    "print(C[0],\"C[0] id=\", id(C[0]))\n",
    "print(C[5],\"C[5] id=\", id(C[5]))\n",
    "\n",
    "print(co, \" co id =\", id(co))\n",
    "print(C[0],\"C[0] id=\", id(C[0]))\n",
    "print(\"______\")\n",
    "# swap links"
   ],
   "metadata": {
    "collapsed": false,
    "pycharm": {
     "name": "#%%\n",
     "is_executing": false
    }
   }
  },
  {
   "cell_type": "code",
   "execution_count": 62,
   "outputs": [
    {
     "name": "stdout",
     "text": [
      "0\n",
      "11\n",
      "11\n",
      "29\n",
      "45\n",
      "68\n",
      "90\n",
      "[]\n",
      "[0, 11, 11, 29, 45, 68, 90]\n"
     ],
     "output_type": "stream"
    }
   ],
   "source": [
    "# придется взять два списка\n",
    "D = [11, 45, 68, 90, 29, 11, 0,]\n",
    "E = []\n",
    "n=len(D)\n",
    "for i in range(n):\n",
    "   m = min(D)\n",
    "   D.remove(m)\n",
    "   E.append(m)\n",
    "   print(m)\n",
    "      \n",
    "print(D)\n",
    "print(E)\n",
    "\n"
   ],
   "metadata": {
    "collapsed": false,
    "pycharm": {
     "name": "#%%\n",
     "is_executing": false
    }
   }
  }
 ],
 "metadata": {
  "kernelspec": {
   "display_name": "Python 3",
   "language": "python",
   "name": "python3"
  },
  "language_info": {
   "codemirror_mode": {
    "name": "ipython",
    "version": 2
   },
   "file_extension": ".py",
   "mimetype": "text/x-python",
   "name": "python",
   "nbconvert_exporter": "python",
   "pygments_lexer": "ipython2",
   "version": "2.7.6"
  },
  "pycharm": {
   "stem_cell": {
    "cell_type": "raw",
    "source": [],
    "metadata": {
     "collapsed": false
    }
   }
  }
 },
 "nbformat": 4,
 "nbformat_minor": 0
}