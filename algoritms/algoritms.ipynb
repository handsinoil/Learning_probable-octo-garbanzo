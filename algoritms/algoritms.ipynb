{
 "cells": [
  {
   "cell_type": "code",
   "execution_count": 6,
   "metadata": {
    "collapsed": true,
    "pycharm": {
     "is_executing": false
    }
   },
   "outputs": [
    {
     "name": "stdout",
     "text": [
      "[45, 68, 90, 29, 89, 17, 17]\n"
     ],
     "output_type": "stream"
    }
   ],
   "source": [
    "#метод грубой силы\n",
    "#сортировка выбором\n",
    "\n",
    "\"\"\"\n",
    "1. Надо найти минимальный элемент\n",
    "2. Поместить его в 0 позицию\n",
    "3. Потом в i+1 позицию поместить мин эл из cпиcка [i+1:n-1]\n",
    "\"\"\"\n"
   ]
  },
  {
   "cell_type": "code",
   "execution_count": 9,
   "outputs": [
    {
     "name": "stdout",
     "text": [
      "0\n",
      "11\n",
      "11\n",
      "29\n",
      "45\n",
      "68\n",
      "90\n",
      "[]\n",
      "[0, 11, 11, 29, 45, 68, 90]\n"
     ],
     "output_type": "stream"
    }
   ],
   "source": [
    "# придется взять два списка\n",
    "D = [11, 45, 68, 90, 29, 11, 0,]\n",
    "E = []\n",
    "n=len(D)\n",
    "for i in range(n):\n",
    "   m = min(D)\n",
    "   D.remove(m)\n",
    "   E.append(m)\n",
    "   print(m)\n",
    "      \n",
    "print(D)\n",
    "print(E)"
   ],
   "metadata": {
    "collapsed": false,
    "pycharm": {
     "name": "#%%\n",
     "is_executing": false
    }
   }
  },
  {
   "cell_type": "code",
   "execution_count": 22,
   "outputs": [
    {
     "name": "stdout",
     "text": [
      "4 29\n",
      "5 11\n",
      "4 29\n",
      "6 11\n",
      "4 29\n",
      "5 45\n",
      "[11, 11, 11, 29, 45, 90, 68]\n"
     ],
     "output_type": "stream"
    }
   ],
   "source": [
    "F = [11, 45, 68, 90, 29, 11, 11,]\n",
    "n = len(F)\n",
    "\n",
    "for j in range(n-2):\n",
    "    mv = F[j]\n",
    "    mi = j\n",
    "    for i in range(j, n):\n",
    "        if F[i] < mv:\n",
    "            mv = F[i]\n",
    "            mi = i\n",
    "            print(mi, mv)\n",
    "    F[j], F[mi] = mv, F[j]\n",
    "print(F)\n",
    "# correct answer"
   ],
   "metadata": {
    "collapsed": false,
    "pycharm": {
     "name": "#%%\n",
     "is_executing": false
    }
   }
  }
 ],
 "metadata": {
  "kernelspec": {
   "display_name": "Python 3",
   "language": "python",
   "name": "python3"
  },
  "language_info": {
   "codemirror_mode": {
    "name": "ipython",
    "version": 2
   },
   "file_extension": ".py",
   "mimetype": "text/x-python",
   "name": "python",
   "nbconvert_exporter": "python",
   "pygments_lexer": "ipython2",
   "version": "2.7.6"
  },
  "pycharm": {
   "stem_cell": {
    "cell_type": "raw",
    "source": [],
    "metadata": {
     "collapsed": false
    }
   }
  }
 },
 "nbformat": 4,
 "nbformat_minor": 0
}