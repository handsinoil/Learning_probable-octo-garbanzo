{
 "cells": [
  {
   "cell_type": "code",
   "execution_count": 6,
   "metadata": {
    "collapsed": true,
    "pycharm": {
     "is_executing": false
    }
   },
   "outputs": [
    {
     "name": "stdout",
     "text": [
      "[45, 68, 90, 29, 89, 17, 17]\n"
     ],
     "output_type": "stream"
    }
   ],
   "source": [
    "#метод грубой силы\n",
    "#сортировка выбором\n",
    "\n",
    "\"\"\"\n",
    "1. Надо найти минимальный элемент\n",
    "2. Поместить его в 0 позицию\n",
    "3. Потом в i+1 позицию поместить мин эл из cпиcка [i+1:n-1]\n",
    "\"\"\"\n"
   ]
  },
  {
   "cell_type": "code",
   "execution_count": 9,
   "outputs": [
    {
     "name": "stdout",
     "text": [
      "0\n",
      "11\n",
      "11\n",
      "29\n",
      "45\n",
      "68\n",
      "90\n",
      "[]\n",
      "[0, 11, 11, 29, 45, 68, 90]\n"
     ],
     "output_type": "stream"
    }
   ],
   "source": [
    "# придется взять два списка\n",
    "D = [11, 45, 68, 90, 29, 11, 0,]\n",
    "E = []\n",
    "n=len(D)\n",
    "for i in range(n):\n",
    "   m = min(D)\n",
    "   D.remove(m)\n",
    "   E.append(m)\n",
    "   print(m)\n",
    "      \n",
    "print(D)\n",
    "print(E)"
   ],
   "metadata": {
    "collapsed": false,
    "pycharm": {
     "name": "#%%\n",
     "is_executing": false
    }
   }
  },
  {
   "cell_type": "code",
   "execution_count": 22,
   "outputs": [
    {
     "name": "stdout",
     "text": [
      "4 29\n",
      "5 11\n",
      "4 29\n",
      "6 11\n",
      "4 29\n",
      "5 45\n",
      "[11, 11, 11, 29, 45, 90, 68]\n"
     ],
     "output_type": "stream"
    }
   ],
   "source": [
    "# через индексы списка\n",
    "F = [11, 45, 68, 90, 29, 11, 11,]\n",
    "n = len(F)\n",
    "\n",
    "for j in range(n-2):\n",
    "    mv = F[j]\n",
    "    mi = j\n",
    "    for i in range(j, n):\n",
    "        if F[i] < mv:\n",
    "            mv = F[i]\n",
    "            mi = i\n",
    "            print(mi, mv)\n",
    "    F[j], F[mi] = mv, F[j]\n",
    "print(F)\n",
    "# correct answer"
   ],
   "metadata": {
    "collapsed": false,
    "pycharm": {
     "name": "#%%\n",
     "is_executing": false
    }
   }
  },
  {
   "cell_type": "code",
   "execution_count": 6,
   "outputs": [
    {
     "name": "stdout",
     "text": [
      "[9, 99, 68, 90, 29, 11, 10]\n",
      "[9, 68, 99, 90, 29, 11, 10]\n",
      "[9, 68, 90, 99, 29, 11, 10]\n",
      "[9, 68, 90, 29, 99, 11, 10]\n",
      "[9, 68, 90, 29, 11, 99, 10]\n",
      "[9, 68, 90, 29, 11, 10, 99]\n",
      "[9, 68, 90, 29, 11, 10, 99]\n",
      "[9, 68, 90, 29, 11, 10, 99]\n",
      "[9, 68, 29, 90, 11, 10, 99]\n",
      "[9, 68, 29, 11, 90, 10, 99]\n",
      "[9, 68, 29, 11, 10, 90, 99]\n",
      "[9, 68, 29, 11, 10, 90, 99]\n",
      "[9, 29, 68, 11, 10, 90, 99]\n",
      "[9, 29, 11, 68, 10, 90, 99]\n",
      "[9, 29, 11, 10, 68, 90, 99]\n",
      "[9, 29, 11, 10, 68, 90, 99]\n",
      "[9, 11, 29, 10, 68, 90, 99]\n",
      "[9, 11, 10, 29, 68, 90, 99]\n",
      "[9, 11, 10, 29, 68, 90, 99]\n",
      "[9, 10, 11, 29, 68, 90, 99]\n"
     ],
     "output_type": "stream"
    }
   ],
   "source": [
    "# Bubble sort\n",
    "\n",
    "A = [9, 99, 68, 90, 29, 11, 10,]\n",
    "\n",
    "n =len(A)\n",
    "\n",
    "for j in range(n-2):\n",
    "    #первый цикл\n",
    "    for i in range(n-1-j):\n",
    "        if A[i] > A[i+1]:\n",
    "            A[i+1], A[i] = A[i], A[i+1]\n",
    "        print(A)"
   ],
   "metadata": {
    "collapsed": false,
    "pycharm": {
     "name": "#%%\n",
     "is_executing": false
    }
   }
  },
  {
   "cell_type": "code",
   "execution_count": 11,
   "outputs": [
    {
     "name": "stdout",
     "text": [
      "10\n"
     ],
     "output_type": "stream"
    }
   ],
   "source": [
    "# последовательный поиск\n",
    "B = [9, 99, 68, 90, 29, 11, 10,]\n",
    "n=len(B)\n",
    "K=10\n",
    "i=0\n",
    "while i < n and B[i]!=K:\n",
    "    i=i+1\n",
    "if i < n:\n",
    "    s=B[i]\n",
    "    \n",
    "else:\n",
    "    s=-1\n",
    "        \n",
    "print(s)"
   ],
   "metadata": {
    "collapsed": false,
    "pycharm": {
     "name": "#%%\n",
     "is_executing": false
    }
   }
  },
  {
   "cell_type": "code",
   "execution_count": 40,
   "outputs": [
    {
     "name": "stdout",
     "text": [
      "1 True\n",
      "9302144 9302176\n"
     ],
     "output_type": "stream"
    }
   ],
   "source": [
    " \n",
    "# Поиск подстроки со счетчиком на убывание\n",
    "st= \"NOBODY - NOTICED - HIM\"\n",
    "s=[i for i in st]\n",
    "\n",
    "p=list(\"OBO\")\n",
    "\n",
    "n= len(s)\n",
    "m= len(p)\n",
    "ms = len(p)\n",
    "f=-1\n",
    "flag = True\n",
    "for i in range(n-m+1):\n",
    "    if s[i]==p[0]:\n",
    "       for j in range(m):\n",
    "           if s[j+i] == p[j]:\n",
    "               flag = True\n",
    "               f = i\n",
    "               m=m-1\n",
    "           else:\n",
    "               f=-1\n",
    "               flag = False\n",
    "               break\n",
    "    elif ms==0: break\n",
    "    else:\n",
    "        continue\n",
    "               \n",
    "print(f, flag)\n",
    "\n"
   ],
   "metadata": {
    "collapsed": false,
    "pycharm": {
     "name": "#%%\n",
     "is_executing": false
    }
   }
  },
  {
   "cell_type": "code",
   "execution_count": 3,
   "outputs": [
    {
     "name": "stdout",
     "text": [
      "[12]\n"
     ],
     "output_type": "stream"
    }
   ],
   "source": [
    "# Поиск подстроки BruteForseStringMatch\n",
    "T=list(\"NOBODY - NOBNOBICED - HIM\")\n",
    "p=list(\"NOBI\")\n",
    "n= len(T)\n",
    "m=len(p)\n",
    "f=None\n",
    "search_list=[]\n",
    "for i in range(n-m+1):\n",
    "    j=0\n",
    "    while j<m and p[j] == T[i+j]:\n",
    "        j+=1\n",
    "        if j==m:\n",
    "            f=i\n",
    "            search_list.append(f)\n",
    "\n",
    "print(search_list)"
   ],
   "metadata": {
    "collapsed": false,
    "pycharm": {
     "name": "#%%\n",
     "is_executing": false
    }
   }
  },
  {
   "cell_type": "code",
   "execution_count": 50,
   "outputs": [
    {
     "name": "stdout",
     "text": [
      "1.414 (1, 1) (0, 0)\n",
      "3.162 (1, 1) (4, 2)\n",
      "1.414 (1, 1) (0, 0)\n",
      "7.28 (1, 1) (8, 3)\n",
      "4.472 (0, 0) (4, 2)\n",
      "0.0 (0, 0) (0, 0)\n",
      "8.544 (0, 0) (8, 3)\n",
      "4.472 (4, 2) (0, 0)\n",
      "4.123 (4, 2) (8, 3)\n",
      "8.544 (0, 0) (8, 3)\n",
      "1 3\n"
     ],
     "output_type": "stream"
    }
   ],
   "source": [
    "#Поиск пары ближайших точек с использованием метода грубой силы и формулы пифагора\n",
    "\n",
    "\"\"\"index1 & index2 <-[]<- list P, n>1 point P1=(x1, y1,), Pn=(xn, yn)\n",
    "                     ^| - нахождение минимального значения d\n",
    "                      | - dist - расстояние между точками\n",
    "                     \"\"\"\n",
    "def dist(pi: tuple, pj: tuple) -> float:\n",
    "    d=round(((pi[0]-pj[0])**2+(pi[1]-pj[1])**2)**0.5, 3)\n",
    "    return d\n",
    "\n",
    "\n",
    "from random import randrange, sample\n",
    "Pr = [(randrange(1000), randrange(1000)) for i in range(100)]\n",
    "P = [(1, 1), (0, 0), (4, 2), (0, 0), (8, 3), ]\n",
    "n= len(P)\n",
    "dmin = 2**16\n",
    "for i in range(n-1):\n",
    "    for j in range(i+1, n):\n",
    "        d = dist(P[i], P[j])\n",
    "        print(d, P[i], P[j])\n",
    "        if dmin>d:\n",
    "            dmin=d\n",
    "            index1=i\n",
    "            index2=j\n",
    "print(index1, index2)\n",
    "            "
   ],
   "metadata": {
    "collapsed": false,
    "pycharm": {
     "name": "#%%\n",
     "is_executing": false
    }
   }
  }
 ],
 "metadata": {
  "kernelspec": {
   "display_name": "Python 3",
   "language": "python",
   "name": "python3"
  },
  "language_info": {
   "codemirror_mode": {
    "name": "ipython",
    "version": 2
   },
   "file_extension": ".py",
   "mimetype": "text/x-python",
   "name": "python",
   "nbconvert_exporter": "python",
   "pygments_lexer": "ipython2",
   "version": "2.7.6"
  },
  "pycharm": {
   "stem_cell": {
    "cell_type": "raw",
    "source": [],
    "metadata": {
     "collapsed": false
    }
   }
  }
 },
 "nbformat": 4,
 "nbformat_minor": 0
}