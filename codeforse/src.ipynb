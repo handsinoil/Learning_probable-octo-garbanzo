{
 "cells": [
  {
   "cell_type": "code",
   "execution_count": 19,
   "metadata": {
    "collapsed": true,
    "pycharm": {
     "is_executing": false
    }
   },
   "outputs": [
    {
     "data": {
      "text/plain": "[0, 1, 2, 3, 4, 5, 9, 7, 11, 6, 9, 15, 15, 24]"
     },
     "metadata": {},
     "output_type": "execute_result",
     "execution_count": 19
    }
   ],
   "source": [
    "#задача о кролике или кузнечике. Прыжок на 1, на 3, на 5.\n",
    "\n",
    "\n",
    "def n_t(n):\n",
    "    i = 2\n",
    "    k = [0, 1, 2, 3, 4, 5]\n",
    "    while i <= n:\n",
    "        k.append(k[i-1]+k[i-3]+k[i-5])\n",
    "        i=i+1\n",
    "    return k\n",
    "\n",
    "n_t(9)\n"
   ]
  },
  {
   "cell_type": "code",
   "execution_count": 22,
   "outputs": [],
   "source": [
    "cel = [0]\n",
    "with open('lepus.in') as lep:\n",
    "    n, lst = lep.read().split('\\n')\n",
    "cel.extend(list(lst))\n",
    "n=int(n)\n",
    "i=1\n",
    "t = 0\n",
    "with open('lepus.out', mode=\"wt\") as o:\n",
    "    \n",
    "    while True:\n",
    "        if i==n:\n",
    "            print(t)\n",
    "            break\n",
    "        if cel[i+1] == \"w\" and cel[i+3] == \"w\" and cel[i+5] == \"w\":\n",
    "            print(\"-1\", file=o)\n",
    "            break\n",
    "        if cel[i+1] == '\"':\n",
    "            i+=1\n",
    "            t+=1\n",
    "        \n",
    "    "
   ],
   "metadata": {
    "collapsed": false,
    "pycharm": {
     "name": "#%%\n",
     "is_executing": false
    }
   }
  }
 ],
 "metadata": {
  "kernelspec": {
   "display_name": "Python 3",
   "language": "python",
   "name": "python3"
  },
  "language_info": {
   "codemirror_mode": {
    "name": "ipython",
    "version": 2
   },
   "file_extension": ".py",
   "mimetype": "text/x-python",
   "name": "python",
   "nbconvert_exporter": "python",
   "pygments_lexer": "ipython2",
   "version": "2.7.6"
  },
  "pycharm": {
   "stem_cell": {
    "cell_type": "raw",
    "source": [],
    "metadata": {
     "collapsed": false
    }
   }
  }
 },
 "nbformat": 4,
 "nbformat_minor": 0
}