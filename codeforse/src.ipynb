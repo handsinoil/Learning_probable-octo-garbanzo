{
 "cells": [
  {
   "cell_type": "code",
   "execution_count": null,
   "metadata": {
    "collapsed": true,
    "pycharm": {
     "is_executing": true
    }
   },
   "outputs": [],
   "source": [
    "#задача о кролике или кузнечике. Прыжок на 1, на 3, на 5.\n",
    "\n",
    "\n",
    "def n_t(n):\n",
    "    i = 2\n",
    "    k = [0, 1, 2, 3, 4, 5]\n",
    "    while i <= n:\n",
    "        k.append(k[i-1]+k[i-3]+k[i-5])\n",
    "        i=i+1\n",
    "    return k[n]\n",
    "\n",
    "n_t(6)"
   ]
  },
  {
   "cell_type": "code",
   "execution_count": null,
   "outputs": [
    {
     "name": "stdout",
     "text": [
      "[0, '.', '.', '.', '.', 'w', '\"', '\"', 'w', '.'] 10\n",
      "[-1, 0, -1, -1, -1, -1, -1, -1, -1, -1, -1] 11\n"
     ],
     "output_type": "stream"
    }
   ],
   "source": [
    "\n",
    "with open('lepus.in') as lep:\n",
    "    n, lst = lep.read().split('\\n')\n",
    "cel = [0]+list(lst)\n",
    "print(cel, len(cel))\n",
    "n=int(n)\n",
    "i=2\n",
    "a = [-1 for _ in range(n+2)]\n",
    "a[1] = 0\n",
    "print(a, len(a))\n",
    "while i<=n:\n",
    "    \n",
    "    if cel[i] =='w': \n",
    "        continue\n",
    "    if i < 3: a[i] =a[i-1]\n",
    "    elif i<5:\n",
    "        a[i] = max(a[i-1], a[i-3])\n",
    "    else:\n",
    "        a[i] = max(max(a[i-1], a[i-3]), a[i-5])\n",
    "    if cel[i] =='\"':\n",
    "        a[i]+=1\n",
    "    i+=1\n",
    "with open('lepus.out', mode=\"wt\") as o:\n",
    "    print(a[n], file=o)\n",
    "print(a)"
   ],
   "metadata": {
    "collapsed": false,
    "pycharm": {
     "name": "#%%\n",
     "is_executing": true
    }
   }
  },
  {
   "cell_type": "code",
   "execution_count": null,
   "outputs": [],
   "source": [
    "\"\"\"\n",
    "\n",
    "vector <int> a(n+2, -1);\n",
    "char c; cin >> c;\n",
    "a[1] = 0;\n",
    "for(int i = 2, i <= n; i++) {\n",
    "cin >> c;\n",
    "if(c ==‘w’) continue;\n",
    "if(i < 3)\n",
    "a[i] = a[i-1];\n",
    "else if(i < 5)\n",
    "a[i] = max( a[i-1], a[i-3] );\n",
    "else\n",
    "a[i] = max( max( a[i-1], a[i-3] ), a[i-5] );\n",
    "if(c == ‘”’) a[i]++;\n",
    "}\n",
    "cout << a[n];\"\"\""
   ],
   "metadata": {
    "collapsed": false,
    "pycharm": {
     "name": "#%%\n",
     "is_executing": false
    }
   }
  },
  {
   "cell_type": "code",
   "execution_count": 47,
   "outputs": [
    {
     "name": "stdout",
     "text": [
      "........w\"\"w.\n",
      "5 6 7 8 9 10 11 12 [-1, -1, -1, -1, -1, 0, 0, 0, -1, 1, 1, -1, 0]\n",
      "[-1, -1, -1, -1, -1, 0, 0, 0, -1, 1, 2, -1, 0]\n",
      "[-1, -1, -1, -1, -1, -1, 0, 0, 0, 0, 1, 2, 1]\n"
     ],
     "output_type": "stream"
    }
   ],
   "source": [
    "cel= ('...w\"\"w.')\n",
    "l = '.....'\n",
    "c=l+cel\n",
    "print(c)\n",
    "\n",
    "a=[-1 for i in range(len(cel)+5)]\n",
    "a[5]=0\n",
    "for i in range(5, len(cel)+5):\n",
    "    \n",
    "    print(i, end=\" \")\n",
    "    if c[i] ==\"w\":\n",
    "        continue\n",
    "    elif c[i] == '\"':\n",
    "        a[i]=1\n",
    "    elif c[i]==\".\":\n",
    "        a[i]=0\n",
    "print(a)\n",
    "for i in range(5, len(cel)+5):\n",
    "    m = (max(a[i-1], a[i-3], a[i-5]))\n",
    "    if a[i]==-1:\n",
    "        continue\n",
    "    if a[i] == 1:\n",
    "        a[i]= a[i]+m\n",
    "print(a)\n",
    "b=a[:]\n",
    "for i in range(5, len(cel)+5):\n",
    "    b[i] = max(max(a[i-1], a[i-3]), a[i-5])\n",
    "print(b)"
   ],
   "metadata": {
    "collapsed": false,
    "pycharm": {
     "name": "#%%\n",
     "is_executing": false
    }
   }
  }
 ],
 "metadata": {
  "kernelspec": {
   "display_name": "Python 3",
   "language": "python",
   "name": "python3"
  },
  "language_info": {
   "codemirror_mode": {
    "name": "ipython",
    "version": 2
   },
   "file_extension": ".py",
   "mimetype": "text/x-python",
   "name": "python",
   "nbconvert_exporter": "python",
   "pygments_lexer": "ipython2",
   "version": "2.7.6"
  },
  "pycharm": {
   "stem_cell": {
    "cell_type": "raw",
    "source": [],
    "metadata": {
     "collapsed": false
    }
   }
  }
 },
 "nbformat": 4,
 "nbformat_minor": 0
}